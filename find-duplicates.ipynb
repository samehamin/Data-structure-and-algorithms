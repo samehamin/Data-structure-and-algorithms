{
 "cells": [
  {
   "cell_type": "code",
   "execution_count": null,
   "metadata": {},
   "outputs": [],
   "source": [
    "### My Approach  ###\n",
    "#====================================================\n",
    "# Approach & steps: \n",
    "\n",
    "# getMissingNo takes list as argument\n",
    "def getDuplicates(A):\n",
    "    \n",
    "    return \n",
    "\n",
    "\n",
    "# Driver program to test the above function\n",
    "A = [9, 8, 7, 3, 2, 1, 2, 7]\n",
    "miss = getDuplicates(A)\n",
    "print(miss)"
   ]
  }
 ],
 "metadata": {
  "language_info": {
   "name": "python"
  },
  "orig_nbformat": 4
 },
 "nbformat": 4,
 "nbformat_minor": 2
}
