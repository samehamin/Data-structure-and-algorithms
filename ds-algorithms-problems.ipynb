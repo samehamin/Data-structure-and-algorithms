{
 "cells": [
  {
   "cell_type": "code",
   "execution_count": 12,
   "metadata": {},
   "outputs": [
    {
     "name": "stdout",
     "output_type": "stream",
     "text": [
      "3.0\n"
     ]
    }
   ],
   "source": [
    "### Method 1: Summation formula technique  ###\n",
    "#====================================================\n",
    "# Approach & steps: https://www.geeksforgeeks.org/find-the-missing-number/\n",
    "\n",
    "# getMissingNo takes list as argument\n",
    "def getMissingNo(A):\n",
    "    n = len(A)\n",
    "    total = (n + 1)*(n + 2)/2\n",
    "    sum_of_A = sum(A)\n",
    "    return total - sum_of_A\n",
    "\n",
    "\n",
    "# Driver program to test the above function\n",
    "A = [1, 2, 4, 5, 6]\n",
    "miss = getMissingNo(A)\n",
    "print(miss)"
   ]
  },
  {
   "cell_type": "code",
   "execution_count": 4,
   "metadata": {},
   "outputs": [
    {
     "name": "stdout",
     "output_type": "stream",
     "text": [
      "4\n"
     ]
    }
   ],
   "source": [
    " ### same formula approach but there can be overflow if n is large ###\n",
    " #========================================================\n",
    "# a represents the array\n",
    "# n : Number of elements in array a\n",
    "def getMissingNo(a, n):\n",
    "    i, total = 0, 1\n",
    " \n",
    "    for i in range(2, n + 2):\n",
    "        total += i\n",
    "        total -= a[i - 2]\n",
    "    return total\n",
    " \n",
    "# Driver Code\n",
    "arr = [1, 2, 3, 5]\n",
    "print(getMissingNo(arr, len(arr)))"
   ]
  },
  {
   "cell_type": "code",
   "execution_count": 11,
   "metadata": {},
   "outputs": [
    {
     "name": "stdout",
     "output_type": "stream",
     "text": [
      "3\n"
     ]
    }
   ],
   "source": [
    "### Method 2: This method uses the technique of XOR to solve the problem. ###\n",
    "#====================================================\n",
    "# Approach & steps: https://www.geeksforgeeks.org/find-the-missing-number/\n",
    "\n",
    "# Python3 program to find\n",
    "# the missing Number\n",
    "# getMissingNo takes list as argument\n",
    " \n",
    "def getMissingNo(a, n):\n",
    "    x1 = a[0]\n",
    "    x2 = 1\n",
    "\n",
    "    for i in range(1, n):\n",
    "        x1 = x1 ^ a[i]\n",
    "         \n",
    "    for i in range(2, n + 2):\n",
    "        x2 = x2 ^ i\n",
    "     \n",
    "    return x1 ^ x2\n",
    " \n",
    " \n",
    "# Driver program to test above function\n",
    "if __name__=='__main__':\n",
    " \n",
    "    a = [1, 2, 4, 5, 6]\n",
    "    n = len(a)\n",
    "    miss = getMissingNo(a, n)\n",
    "    print(miss)\n",
    "     "
   ]
  },
  {
   "cell_type": "code",
   "execution_count": 2,
   "metadata": {},
   "outputs": [
    {
     "name": "stdout",
     "output_type": "stream",
     "text": [
      "[5, 4, 1, 3]\n",
      "2\n"
     ]
    }
   ],
   "source": [
    "### My Approach ###\n",
    "#====================================================\n",
    "arr = [5,4,1,3]\n",
    "print (arr)\n",
    "\n",
    "def find_missing_num(arr):\n",
    "    arr.sort()\n",
    "\n",
    "    counter = 1\n",
    "    missing_num = 0\n",
    "\n",
    "    for n in arr:\n",
    "        if (n > counter):\n",
    "            missing_num = counter\n",
    "        else:\n",
    "            counter += 1\n",
    "    \n",
    "    return missing_num\n",
    "\n",
    "\n",
    "print(find_missing_num(arr))\n"
   ]
  },
  {
   "cell_type": "code",
   "execution_count": null,
   "metadata": {},
   "outputs": [],
   "source": []
  }
 ],
 "metadata": {
  "interpreter": {
   "hash": "d4b1c2f94c127b282a8914b14ad15d0eab09dea57fc6eb05c517d7ac991c25c2"
  },
  "kernelspec": {
   "display_name": "Python 3.9.7 ('base')",
   "language": "python",
   "name": "python3"
  },
  "language_info": {
   "codemirror_mode": {
    "name": "ipython",
    "version": 3
   },
   "file_extension": ".py",
   "mimetype": "text/x-python",
   "name": "python",
   "nbconvert_exporter": "python",
   "pygments_lexer": "ipython3",
   "version": "3.8.9"
  },
  "orig_nbformat": 4
 },
 "nbformat": 4,
 "nbformat_minor": 2
}
